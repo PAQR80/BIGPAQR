{
 "cells": [
  {
   "cell_type": "code",
   "execution_count": 1,
   "metadata": {},
   "outputs": [
    {
     "name": "stdout",
     "output_type": "stream",
     "text": [
      "[*********************100%%**********************]  1 of 1 completed\n",
      "[*********************100%%**********************]  1 of 1 completed\n",
      "[*********************100%%**********************]  1 of 1 completed\n"
     ]
    }
   ],
   "source": [
    "import yfinance as yf\n",
    "import numpy as np\n",
    "\n",
    "\n",
    "# Download historical data for required stocks\n",
    "tickers = [\"MSFT\",\"AAPL\",\"GOOG\"]\n",
    "ohlcv_data = {}\n",
    "\n",
    "# looping over tickers and storing OHLCV dataframe in dictionary\n",
    "for ticker in tickers:\n",
    "    temp = yf.download(ticker,period='1mo',interval='15m')\n",
    "    temp.dropna(how=\"any\",inplace=True)\n",
    "    ohlcv_data[ticker] = temp"
   ]
  },
  {
   "cell_type": "code",
   "execution_count": 15,
   "metadata": {},
   "outputs": [
    {
     "name": "stdout",
     "output_type": "stream",
     "text": [
      "                           Open        High         Low       Close  \\\n",
      "Datetime                                                              \n",
      "2023-12-12 14:45:00  372.579987  372.720001  372.370514  372.572113   \n",
      "2023-12-12 15:00:00  372.589996  373.059998  372.531403  372.839996   \n",
      "2023-12-12 15:15:00  372.850006  373.109985  372.804504  372.959991   \n",
      "2023-12-12 15:30:00  372.940002  373.116913  372.625000  373.100006   \n",
      "2023-12-12 15:45:00  373.100006  374.420013  372.920013  374.339996   \n",
      "\n",
      "                      Adj Close   Volume   ATR      MACD    SIGNAL  \n",
      "Datetime                                                            \n",
      "2023-12-12 14:45:00  372.572113   453874  None  0.477178  0.489595  \n",
      "2023-12-12 15:00:00  372.839996   844978  None  0.484557  0.488587  \n",
      "2023-12-12 15:15:00  372.959991   466131  None  0.494389  0.489748  \n",
      "2023-12-12 15:30:00  373.100006   556978  None  0.507627  0.493323  \n",
      "2023-12-12 15:45:00  374.339996  2515852  None  0.611130  0.516885  \n"
     ]
    }
   ],
   "source": [
    "def MACD(DF,a=12 ,b=26 ,c=9):\n",
    "    df = DF.copy()\n",
    "    df[\"ma_fast\"] = df[\"Adj Close\"].ewm(span=a, min_periods=a).mean()\n",
    "    df[\"ma_slow\"] = df[\"Adj Close\"].ewm(span=b, min_periods=b).mean()\n",
    "    df[\"macd\"] = df[\"ma_fast\"] - df[\"ma_slow\"]\n",
    "    df[\"signal\"] = df[\"macd\"].ewm(span = c , min_periods=c).mean()\n",
    "    return df.loc[:,[\"macd\",\"signal\"]]\n",
    "\n",
    "for ticker in ohlcv_data:\n",
    "    ohlcv_data[ticker][[\"MACD\",\"SIGNAL\"]] = MACD(ohlcv_data[ticker])\n",
    "\n",
    "print(ohlcv_data[\"MSFT\"].tail())"
   ]
  },
  {
   "cell_type": "code",
   "execution_count": 19,
   "metadata": {},
   "outputs": [
    {
     "name": "stdout",
     "output_type": "stream",
     "text": [
      "                           Open        High         Low       Close  \\\n",
      "Datetime                                                              \n",
      "2023-12-12 14:45:00  372.579987  372.720001  372.370514  372.572113   \n",
      "2023-12-12 15:00:00  372.589996  373.059998  372.531403  372.839996   \n",
      "2023-12-12 15:15:00  372.850006  373.109985  372.804504  372.959991   \n",
      "2023-12-12 15:30:00  372.940002  373.116913  372.625000  373.100006   \n",
      "2023-12-12 15:45:00  373.100006  374.420013  372.920013  374.339996   \n",
      "\n",
      "                      Adj Close   Volume       ATR      MACD    SIGNAL  \n",
      "Datetime                                                                \n",
      "2023-12-12 14:45:00  372.572113   453874  0.558279  0.477178  0.489595  \n",
      "2023-12-12 15:00:00  372.839996   844978  0.554321  0.484557  0.488587  \n",
      "2023-12-12 15:15:00  372.959991   466131  0.521143  0.494389  0.489748  \n",
      "2023-12-12 15:30:00  373.100006   556978  0.517245  0.507627  0.493323  \n",
      "2023-12-12 15:45:00  374.339996  2515852  0.648279  0.611130  0.516885  \n"
     ]
    }
   ],
   "source": [
    "# ATR INDICATOR \n",
    "\n",
    "def ATR(DF,n=14):\n",
    "    df=DF.copy()\n",
    "    df[\"H-L\"] = df[\"High\"] - df[\"Low\"]\n",
    "    df[\"H-PC\"] = df[\"High\"] - df[\"Adj Close\"].shift(1)\n",
    "    df[\"L-PC\"] = df[\"Low\"] - df[\"Adj Close\"].shift(1)\n",
    "    df[\"TR\"] = df[[\"H-L\",\"H-PC\",\"L-PC\"]].max(axis=1,skipna=False)\n",
    "    df[\"ATR\"] = df[\"TR\"].ewm(span = n , min_periods = n).mean()\n",
    "    return df[\"ATR\"]\n",
    "\n",
    "for ticker in ohlcv_data:\n",
    "    ohlcv_data[ticker][\"ATR\"] = ATR(ohlcv_data[ticker])\n",
    "\n",
    "print(ohlcv_data[\"MSFT\"].tail(5))\n"
   ]
  },
  {
   "cell_type": "code",
   "execution_count": 23,
   "metadata": {},
   "outputs": [
    {
     "name": "stdout",
     "output_type": "stream",
     "text": [
      "                           Open        High         Low       Close  \\\n",
      "Datetime                                                              \n",
      "2023-12-12 14:45:00  372.579987  372.720001  372.370514  372.572113   \n",
      "2023-12-12 15:00:00  372.589996  373.059998  372.531403  372.839996   \n",
      "2023-12-12 15:15:00  372.850006  373.109985  372.804504  372.959991   \n",
      "2023-12-12 15:30:00  372.940002  373.116913  372.625000  373.100006   \n",
      "2023-12-12 15:45:00  373.100006  374.420013  372.920013  374.339996   \n",
      "\n",
      "                      Adj Close   Volume          MB          UB          LB  \\\n",
      "Datetime                                                                       \n",
      "2023-12-12 14:45:00  372.572113   453874  372.290874  372.843854  371.737894   \n",
      "2023-12-12 15:00:00  372.839996   844978  372.318730  372.936468  371.700992   \n",
      "2023-12-12 15:15:00  372.959991   466131  372.388016  373.058099  371.717933   \n",
      "2023-12-12 15:30:00  373.100006   556978  372.495159  373.103856  371.886461   \n",
      "2023-12-12 15:45:00  374.339996  2515852  372.653730  373.750146  371.557315   \n",
      "\n",
      "                     BB_width  \n",
      "Datetime                       \n",
      "2023-12-12 14:45:00  1.105959  \n",
      "2023-12-12 15:00:00  1.235475  \n",
      "2023-12-12 15:15:00  1.340166  \n",
      "2023-12-12 15:30:00  1.217396  \n",
      "2023-12-12 15:45:00  2.192831  \n"
     ]
    }
   ],
   "source": [
    "#Bollinger band function\n",
    "\n",
    "def Boll_band(DF,n=14):\n",
    "    df = DF.copy()\n",
    "    df[\"MB\"] = df[\"Adj Close\"].rolling(n).mean()\n",
    "    df[\"UB\"] = df[\"MB\"] + 2*df[\"Adj Close\"].rolling(n).std(ddof=0)\n",
    "    df[\"LB\"] = df[\"MB\"] - 2*df[\"Adj Close\"].rolling(n).std(ddof=0)\n",
    "    df[\"BB_width\"] = df[\"UB\"] - df[\"LB\"]\n",
    "    return df[[\"MB\",\"UB\",\"LB\",\"BB_width\"]]\n",
    "\n",
    "for ticker in ohlcv_data: \n",
    "    ohlcv_data[ticker][[\"MB\",\"UB\",\"LB\",\"BB_width\"]] = Boll_band(ohlcv_data[ticker])\n",
    "\n",
    "print(ohlcv_data[\"MSFT\"].tail(5))"
   ]
  },
  {
   "cell_type": "code",
   "execution_count": 4,
   "metadata": {},
   "outputs": [
    {
     "name": "stdout",
     "output_type": "stream",
     "text": [
      "                           Open        High         Low       Close  \\\n",
      "Datetime                                                              \n",
      "2023-12-14 14:45:00  365.580811  366.179993  365.459991  365.565002   \n",
      "2023-12-14 15:00:00  365.570007  365.850006  364.994995  365.266693   \n",
      "2023-12-14 15:15:00  365.269989  365.519989  364.890015  365.153595   \n",
      "2023-12-14 15:30:00  365.160004  365.940002  365.000000  365.799988   \n",
      "2023-12-14 15:45:00  365.790009  366.269989  364.929993  365.950012   \n",
      "\n",
      "                      Adj Close   Volume        RSI  \n",
      "Datetime                                             \n",
      "2023-12-14 14:45:00  365.565002   847787  33.407627  \n",
      "2023-12-14 15:00:00  365.266693  1052431  32.006920  \n",
      "2023-12-14 15:15:00  365.153595  1210479  31.468220  \n",
      "2023-12-14 15:30:00  365.799988  1157013  37.901201  \n",
      "2023-12-14 15:45:00  365.950012  4333635  39.324780  \n"
     ]
    }
   ],
   "source": [
    "#RSI indicator \n",
    "\n",
    "def RSI (DF,n=14):\n",
    "    df=DF.copy()\n",
    "    df[\"change\"] = df[\"Adj Close\"] - df[\"Adj Close\"].shift(1)\n",
    "    df[\"gain\"] = np.where(df[\"change\"]>=0,df[\"change\"],0)\n",
    "    df[\"loss\"] = np.where(df[\"change\"]<0,-1*df[\"change\"],0)\n",
    "    df[\"avgGain\"] = df[\"gain\"].ewm(alpha = 1/n , min_periods=n).mean()\n",
    "    df[\"avgLoss\"] = df[\"loss\"].ewm(alpha = 1/n , min_periods=n).mean()\n",
    "    df[\"rs\"] = df[\"avgGain\"] / df[\"avgLoss\"] \n",
    "    df[\"rsi\"] = 100 - (100/(1+df[\"rs\"]))\n",
    "    return df[\"rsi\"]\n",
    "\n",
    "for ticker in ohlcv_data:\n",
    "    ohlcv_data[ticker][\"RSI\"] = RSI(ohlcv_data[ticker])\n",
    "\n",
    "print(ohlcv_data[\"MSFT\"].tail(5))"
   ]
  },
  {
   "cell_type": "code",
   "execution_count": 5,
   "metadata": {},
   "outputs": [
    {
     "name": "stdout",
     "output_type": "stream",
     "text": [
      "                           Open        High         Low       Close  \\\n",
      "Datetime                                                              \n",
      "2023-12-18 09:45:00  369.709991  369.950012  368.709991  369.760010   \n",
      "2023-12-18 10:00:00  369.790009  371.119995  369.630005  370.619995   \n",
      "2023-12-18 10:15:00  370.619995  372.709991  370.609985  372.489990   \n",
      "2023-12-18 10:30:00  372.459991  372.660004  370.910004  370.910004   \n",
      "2023-12-18 10:45:00  370.910004  370.975006  370.619995  370.720001   \n",
      "\n",
      "                      Adj Close   Volume        ADX  \n",
      "Datetime                                             \n",
      "2023-12-18 09:45:00  369.760010   888237  26.457244  \n",
      "2023-12-18 10:00:00  370.619995  1161501  25.278476  \n",
      "2023-12-18 10:15:00  372.489990   901853  23.609545  \n",
      "2023-12-18 10:30:00  370.910004   655469  22.099561  \n",
      "2023-12-18 10:45:00  370.720001   214489  20.289564  \n"
     ]
    }
   ],
   "source": [
    "#ADX implementation python \n",
    "\n",
    "\n",
    "def ATR(DF,n=14):\n",
    "    df=DF.copy()\n",
    "    df[\"H-L\"] = df[\"High\"] - df[\"Low\"]\n",
    "    df[\"H-PC\"] = df[\"High\"] - df[\"Adj Close\"].shift(1)\n",
    "    df[\"L-PC\"] = df[\"Low\"] - df[\"Adj Close\"].shift(1)\n",
    "    df[\"TR\"] = df[[\"H-L\",\"H-PC\",\"L-PC\"]].max(axis=1,skipna=False)\n",
    "    df[\"ATR\"] = df[\"TR\"].ewm(span = n , min_periods = n).mean()\n",
    "    return df[\"ATR\"]\n",
    "\n",
    "def ADX(DF, n=20):\n",
    "    df= DF.copy()\n",
    "    df[\"ATR\"] = ATR(df,n)\n",
    "    df[\"upmove\"] = df[\"High\"] - df[\"High\"].shift(1)\n",
    "    df[\"downmove\"] = df[\"Low\"].shift(1) - df[\"Low\"]\n",
    "    df[\"+dm\"] = np.where((df[\"upmove\"]>df[\"downmove\"]) & (df[\"upmove\"]>0 ),df[\"upmove\"],0)\n",
    "    df[\"-dm\"] = np.where((df[\"downmove\"]>df[\"upmove\"]) & (df[\"downmove\"]>0 ),df[\"downmove\"],0)\n",
    "    df[\"+di\"] = 100 * (df[\"+dm\"]/df[\"ATR\"]).ewm(span= n , min_periods=n).mean()\n",
    "    df[\"-di\"] = 100 * (df[\"-dm\"]/df[\"ATR\"]).ewm(span= n , min_periods=n).mean()\n",
    "    df[\"ADX\"] = 100 * abs((df[\"+di\"] -  df[\"-di\"])/(df[\"+di\"] + df[\"-di\"])).ewm(span= n , min_periods=n).mean()\n",
    "    return df[\"ADX\"]\n",
    "\n",
    "for ticker in ohlcv_data:\n",
    "    ohlcv_data[ticker][\"ADX\"] = ADX(ohlcv_data[ticker])\n",
    "\n",
    "print(ohlcv_data[\"MSFT\"].tail(5))\n",
    "\n"
   ]
  },
  {
   "cell_type": "code",
   "execution_count": null,
   "metadata": {},
   "outputs": [],
   "source": [
    "# Renko chart \n",
    "\n"
   ]
  }
 ],
 "metadata": {
  "kernelspec": {
   "display_name": "Python 3",
   "language": "python",
   "name": "python3"
  },
  "language_info": {
   "codemirror_mode": {
    "name": "ipython",
    "version": 3
   },
   "file_extension": ".py",
   "mimetype": "text/x-python",
   "name": "python",
   "nbconvert_exporter": "python",
   "pygments_lexer": "ipython3",
   "version": "3.10.11"
  },
  "orig_nbformat": 4
 },
 "nbformat": 4,
 "nbformat_minor": 2
}
